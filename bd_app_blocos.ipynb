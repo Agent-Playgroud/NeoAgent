{
 "cells": [
  {
   "cell_type": "code",
   "execution_count": 1,
   "metadata": {},
   "outputs": [
    {
     "name": "stdout",
     "output_type": "stream",
     "text": [
      "Erro ao conectar ao banco de dados: ('HYT00', '[HYT00] [Microsoft][ODBC SQL Server Driver]Tempo limite de logon excedido (0) (SQLDriverConnect); [HYT00] [Microsoft][ODBC SQL Server Driver]Atributo de cadeia de conexão inválido (0)')\n"
     ]
    }
   ],
   "source": [
    "import agente_bd\n",
    "import user_bd\n",
    "import files_bd"
   ]
  },
  {
   "cell_type": "code",
   "execution_count": 6,
   "metadata": {},
   "outputs": [
    {
     "name": "stdout",
     "output_type": "stream",
     "text": [
      "['info.txt', 'dess.txt', 'Progresso.txt']\n"
     ]
    }
   ],
   "source": [
    "LISTA = []\n",
    "\n",
    "for arquivo in arquivos:\n",
    "    text = arquivo[0]\n",
    "    LISTA.append(text)\n",
    "\n",
    "print(LISTA)"
   ]
  },
  {
   "cell_type": "code",
   "execution_count": 1,
   "metadata": {},
   "outputs": [
    {
     "name": "stdout",
     "output_type": "stream",
     "text": [
      "Erro ao conectar ao banco de dados: ('HYT00', '[HYT00] [Microsoft][ODBC SQL Server Driver]Tempo limite de logon excedido (0) (SQLDriverConnect); [HYT00] [Microsoft][ODBC SQL Server Driver]Atributo de cadeia de conexão inválido (0)')\n"
     ]
    }
   ],
   "source": [
    "import pyodbc\n",
    "\n",
    "def testar_conexao():\n",
    "    try:\n",
    "        conexao = pyodbc.connect(\n",
    "            \"DRIVER={SQL Server};\"\n",
    "            \"SERVER=MAQ-RR;\"\n",
    "            \"DATABASE=Agente_IA;\"\n",
    "            \"Trusted_Connection=yes;\"\n",
    "            \"Timeout=600;\"  # 10 minutos\n",
    "        )\n",
    "        print(\"Conexão bem-sucedida!\")\n",
    "        conexao.close()\n",
    "    except Exception as e:\n",
    "        print(f\"Erro ao conectar ao banco de dados: {e}\")\n",
    "\n",
    "# Testa a conexão\n",
    "testar_conexao()"
   ]
  }
 ],
 "metadata": {
  "kernelspec": {
   "display_name": "Python 3",
   "language": "python",
   "name": "python3"
  },
  "language_info": {
   "codemirror_mode": {
    "name": "ipython",
    "version": 3
   },
   "file_extension": ".py",
   "mimetype": "text/x-python",
   "name": "python",
   "nbconvert_exporter": "python",
   "pygments_lexer": "ipython3",
   "version": "3.12.6"
  }
 },
 "nbformat": 4,
 "nbformat_minor": 2
}
